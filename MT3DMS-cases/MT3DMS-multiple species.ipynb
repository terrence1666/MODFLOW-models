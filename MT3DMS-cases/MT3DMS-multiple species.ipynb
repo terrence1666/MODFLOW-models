{
 "cells": [
  {
   "cell_type": "markdown",
   "metadata": {},
   "source": [
    "# MT3DMS Multiple Species"
   ]
  },
  {
   "cell_type": "code",
   "execution_count": 1,
   "metadata": {},
   "outputs": [],
   "source": [
    "import flopy\n",
    "import flopy.modflow as mf\n",
    "import flopy.utils as fu\n",
    "import flopy.utils.binaryfile as bf\n",
    "import matplotlib as mpl \n",
    "import matplotlib.pyplot as plt\n",
    "import numpy as np\n",
    "import os\n",
    "import pandas as pd\n",
    "import platform\n",
    "import shutil\n",
    "import sys\n",
    "import datetime\n",
    "import math\n",
    "from sklearn.metrics import mean_squared_error as mse\n",
    "import flopy.mt3d as mt3\n",
    "from flopy.export import vtk\n",
    "import itertools as it\n",
    "%matplotlib inline"
   ]
  },
  {
   "cell_type": "code",
   "execution_count": 2,
   "metadata": {},
   "outputs": [
    {
     "name": "stdout",
     "output_type": "stream",
     "text": [
      "3.6.7 (v3.6.7:6ec5cf24b7, Oct 20 2018, 13:35:33) [MSC v.1900 64 bit (AMD64)]\n",
      "numpy version: 1.14.3\n",
      "pandas version: 0.23.4\n",
      "matplotlib version: 3.0.2\n",
      "flopy version: 3.2.10\n"
     ]
    }
   ],
   "source": [
    "print(sys.version)\n",
    "print('numpy version: {}'.format(np.__version__))\n",
    "print('pandas version: {}'.format(pd.__version__))\n",
    "print('matplotlib version: {}'.format(mpl.__version__))\n",
    "print('flopy version: {}'.format(flopy.__version__))"
   ]
  },
  {
   "cell_type": "code",
   "execution_count": 3,
   "metadata": {},
   "outputs": [],
   "source": [
    "exe_name_mf = 'mf2005.exe'\n",
    "exe_name_mt = 'mt3dms5b.exe'\n",
    "workspace = os.path.join('.', 'multi-species')\n",
    "if os.path.exists(workspace):\n",
    "    shutil.rmtree(workspace)\n",
    "\n",
    "if not os.path.exists(workspace):\n",
    "    os.makedirs(workspace)"
   ]
  },
  {
   "cell_type": "code",
   "execution_count": 4,
   "metadata": {},
   "outputs": [],
   "source": [
    "tm = mf.Modflow(modelname='test', exe_name=exe_name_mf, version='mf2005', model_ws=workspace)"
   ]
  },
  {
   "cell_type": "code",
   "execution_count": 5,
   "metadata": {},
   "outputs": [],
   "source": [
    "Lx = 1000\n",
    "Ly = 1000\n",
    "top = 50\n",
    "botm = 0\n",
    "nlay = 1\n",
    "nrow = 10\n",
    "ncol = 10\n",
    "delr = Lx/ncol\n",
    "delc = Ly/nrow\n",
    "delv = (top - botm) / nlay\n",
    "\n",
    "\n",
    "#steady = np.full ( 10, False, dtype=bool )\n",
    "steady = True\n",
    "\n",
    "dis = flopy.modflow.ModflowDis(tm, nlay, nrow, ncol, delr=delr, delc=delc, nper =1 ,perlen = 3000, steady = steady,\n",
    "                               top=top, botm=botm)"
   ]
  },
  {
   "cell_type": "code",
   "execution_count": 6,
   "metadata": {},
   "outputs": [],
   "source": [
    "ibound = np.ones((nlay, nrow, ncol), dtype=np.int32)\n",
    "ibound[:, :, 0] = -1\n",
    "ibound[:, :, -1] = -1\n",
    "strt = np.ones((nlay, nrow, ncol), dtype=np.float32)\n",
    "strt[:, :, 0] = 10.\n",
    "strt[:, :, -1] = 0.\n",
    "bas = flopy.modflow.ModflowBas(tm, ibound=ibound, strt=strt)"
   ]
  },
  {
   "cell_type": "code",
   "execution_count": 7,
   "metadata": {},
   "outputs": [
    {
     "name": "stdout",
     "output_type": "stream",
     "text": [
      "FloPy is using the following  executable to run the model: C:\\modflow\\Packages\\mf2005.exe\n",
      "\n",
      "                                  MODFLOW-2005     \n",
      "    U.S. GEOLOGICAL SURVEY MODULAR FINITE-DIFFERENCE GROUND-WATER FLOW MODEL\n",
      "                             Version 1.12.00 2/3/2017                        \n",
      "\n",
      " Using NAME file: test.nam \n",
      " Run start date and time (yyyy/mm/dd hh:mm:ss): 2019/01/09 17:51:54\n",
      "\n",
      " Solving:  Stress period:     1    Time step:     1    Ground-Water Flow Eqn.\n",
      " Run end date and time (yyyy/mm/dd hh:mm:ss): 2019/01/09 17:51:54\n",
      " Elapsed run time:  0.124 Seconds\n",
      "\n",
      "  Normal termination of simulation\n"
     ]
    }
   ],
   "source": [
    "wel = flopy.modflow.ModflowWel(tm, stress_period_data={0:[0, 5, 5, 1]})\n",
    "lpf = flopy.modflow.ModflowLpf(tm, hk=10., vka=10., ipakcb=53)\n",
    "spd = {(0, 0): ['print head', 'print budget', 'save head', 'save budget']}\n",
    "oc = flopy.modflow.ModflowOc(tm, stress_period_data=spd, compact=True)\n",
    "lmt = flopy.modflow.ModflowLmt(tm)\n",
    "pcg = flopy.modflow.ModflowPcg(tm)\n",
    "tm.write_input()\n",
    "success, buff = tm.run_model()"
   ]
  },
  {
   "cell_type": "code",
   "execution_count": 8,
   "metadata": {},
   "outputs": [],
   "source": [
    "mt = flopy.mt3d.Mt3dms(modelname='test', model_ws=workspace, \n",
    "                           exe_name=exe_name_mt, modflowmodel=tm)"
   ]
  },
  {
   "cell_type": "code",
   "execution_count": 9,
   "metadata": {},
   "outputs": [
    {
     "name": "stdout",
     "output_type": "stream",
     "text": [
      "RCT: setting srconc for component 2 to zero, kwarg name srconc2\n",
      "RCT: setting sp2 for component 2 to zero, kwarg name sp22\n",
      "RCT: setting rc1 for component 2 to zero, kwarg name rc12\n",
      "RCT: setting rc2 for component 2 to zero, kwarg name rc22\n",
      "FloPy is using the following  executable to run the model: C:\\modflow\\Packages\\mt3dms5b.exe\n",
      "MT3DMS - Modular 3-D Multi-Species Transport Model [Version 5.30]\n",
      "Developed at University of Alabama for U.S. Department of Defense\n",
      "\n",
      "Using NAME File: test.nam                                          \n",
      "\n",
      "STRESS PERIOD NO.    1\n",
      "\n",
      "TIME STEP NO.    1\n",
      "FROM TIME =   0.0000     TO    3000.0    \n",
      "\n",
      "Transport Step:    1   Step Size:   429.3     Total Elapsed Time:   429.31    \n",
      "Outer Iter.  1  Inner Iter.  1:  Max. DC =   1.158      [K,I,J]    1    6    6\n",
      "Outer Iter.  1  Inner Iter.  2:  Max. DC =  0.6791E-03  [K,I,J]    1    5    7\n",
      "Outer Iter.  1  Inner Iter.  1:  Max. DC =  0.5751E-02  [K,I,J]    1    6    6\n",
      "Transport Step:    2   Step Size:   429.3     Total Elapsed Time:   858.62    \n",
      "Outer Iter.  1  Inner Iter.  1:  Max. DC =   1.959      [K,I,J]    1    6    6\n",
      "Outer Iter.  1  Inner Iter.  2:  Max. DC =  0.1149E-02  [K,I,J]    1    7    5\n",
      "Outer Iter.  1  Inner Iter.  1:  Max. DC =   1.450      [K,I,J]    1    6    6\n",
      "Outer Iter.  1  Inner Iter.  2:  Max. DC =  0.2082E-03  [K,I,J]    1    5    7\n",
      "Transport Step:    3   Step Size:   429.3     Total Elapsed Time:   1287.9    \n",
      "Outer Iter.  1  Inner Iter.  1:  Max. DC =   1.136      [K,I,J]    1    6    6\n",
      "Outer Iter.  1  Inner Iter.  2:  Max. DC =  0.6658E-03  [K,I,J]    1    7    5\n",
      "Outer Iter.  1  Inner Iter.  1:  Max. DC =  0.8716      [K,I,J]    1    6    6\n",
      "Outer Iter.  1  Inner Iter.  2:  Max. DC =  0.1252E-03  [K,I,J]    1    5    7\n",
      "Transport Step:    4   Step Size:   429.3     Total Elapsed Time:   1717.2    \n",
      "Outer Iter.  1  Inner Iter.  1:  Max. DC =  0.9076      [K,I,J]    1    6    6\n",
      "Outer Iter.  1  Inner Iter.  2:  Max. DC =  0.5314E-03  [K,I,J]    1    7    5\n",
      "Outer Iter.  1  Inner Iter.  1:  Max. DC =  0.6907      [K,I,J]    1    6    6\n",
      "Outer Iter.  1  Inner Iter.  2:  Max. DC =  0.9926E-04  [K,I,J]    1    7    5\n",
      "Transport Step:    5   Step Size:   429.3     Total Elapsed Time:   2146.6    \n",
      "Outer Iter.  1  Inner Iter.  1:  Max. DC =  0.8119      [K,I,J]    1    6    6\n",
      "Outer Iter.  1  Inner Iter.  2:  Max. DC =  0.4752E-03  [K,I,J]    1    7    5\n",
      "Outer Iter.  1  Inner Iter.  1:  Max. DC =  0.6071      [K,I,J]    1    6    6\n",
      "Outer Iter.  1  Inner Iter.  2:  Max. DC =  0.8727E-04  [K,I,J]    1    7    5\n",
      "Transport Step:    6   Step Size:   429.3     Total Elapsed Time:   2575.9    \n",
      "Outer Iter.  1  Inner Iter.  1:  Max. DC =  0.7642      [K,I,J]    1    6    6\n",
      "Outer Iter.  1  Inner Iter.  2:  Max. DC =  0.4472E-03  [K,I,J]    1    7    5\n",
      "Outer Iter.  1  Inner Iter.  1:  Max. DC =  0.5612      [K,I,J]    1    6    6\n",
      "Outer Iter.  1  Inner Iter.  2:  Max. DC =  0.8067E-04  [K,I,J]    1    7    5\n",
      "Transport Step:    7   Step Size:   424.1     Total Elapsed Time:   3000.0    \n",
      "Outer Iter.  1  Inner Iter.  1:  Max. DC =  0.7291      [K,I,J]    1    6    6\n",
      "Outer Iter.  1  Inner Iter.  2:  Max. DC =  0.4178E-03  [K,I,J]    1    7    5\n",
      "Outer Iter.  1  Inner Iter.  1:  Max. DC =  0.5235      [K,I,J]    1    6    6\n",
      "Outer Iter.  1  Inner Iter.  2:  Max. DC =  0.7357E-04  [K,I,J]    1    7    5\n",
      "\n",
      "Program completed.   Total CPU time:  000 minutes  0.016 seconds\n"
     ]
    }
   ],
   "source": [
    "adv = mt3.Mt3dAdv(mt, mixelm = -1, percel = 0.75)\n",
    "icbund = np.ones((nlay, nrow, ncol), dtype=np.int32)\n",
    "icbund[:,:,0] = -1\n",
    "icbund[:,:,-1] = -1\n",
    "\n",
    "sconc_1 = np.ones((nlay, nrow, ncol)) * 0 \n",
    "sconc_2 = np.ones((nlay, nrow, ncol)) * 0 \n",
    "\n",
    "\n",
    "btn = mt3.Mt3dBtn(mt,icbund= icbund, ncomp=2, mcomp=2,sconc = sconc_1, sconc2 = sconc_2, prsity = 0.3) #mcomp should be changed for multiple species\n",
    "\n",
    "dsp = mt3.Mt3dDsp(mt, al = 10, trpt= 0.1,trpv = 0.03, dmcoef= 0.13, dmcoef2 = 0.2)\n",
    "\n",
    "gcg = mt3.Mt3dGcg(mt, mxiter=1,iter1=50,isolve = 2,cclose = 1e-2,ncrs =1)             \n",
    "rct = mt3.Mt3dRct(mt,isothm=1,ireact=0, prsity2= 0.3, igetsc=0, rhob = 1.87e3, sp1= 1.8e-4, sp12= 5.8e-4)\n",
    "\n",
    "itype = flopy.mt3d.Mt3dSsm.itype_dict()\n",
    "\n",
    "spd = {0:[0, 5, 5, 1000, itype['WEL'] , 1000, 10]}\n",
    "ssm = flopy.mt3d.Mt3dSsm(mt, stress_period_data=spd)\n",
    "\n",
    "mt.write_input()\n",
    "mt.run_model(#silent = True\n",
    "                )\n",
    "fname = os.path.join(workspace, 'MT3D001.UCN')\n",
    "fname1 = os.path.join(workspace, 'MT3D002.UCN')\n",
    "ucnobj = flopy.utils.UcnFile(fname)\n",
    "ucnobj1 = flopy.utils.UcnFile(fname1)\n",
    "times = ucnobj.get_times()\n",
    "conc = ucnobj.get_alldata()\n",
    "times1 = ucnobj1.get_times()\n",
    "conc1 = ucnobj1.get_alldata()"
   ]
  },
  {
   "cell_type": "markdown",
   "metadata": {},
   "source": [
    "#### Plot for species 1"
   ]
  },
  {
   "cell_type": "code",
   "execution_count": 10,
   "metadata": {},
   "outputs": [
    {
     "data": {
      "image/png": "[encoded data removed]",
      "text/plain": [
       "<Figure size 432x288 with 1 Axes>"
      ]
     },
     "metadata": {},
     "output_type": "display_data"
    }
   ],
   "source": [
    "mm = flopy.plot.ModelMap(model=tm)\n",
    "mm.plot_grid(color='.5', alpha=0.2)\n",
    "mm.plot_ibound()\n",
    "cs = mm.contour_array(conc[0])\n",
    "plt.clabel(cs)\n",
    "plt.xlabel('DISTANCE ALONG X-AXIS, IN METERS')\n",
    "plt.ylabel('DISTANCE ALONG Y-AXIS, IN METERS')\n",
    "plt.show()"
   ]
  },
  {
   "cell_type": "markdown",
   "metadata": {},
   "source": [
    "#### Plot for species 2"
   ]
  },
  {
   "cell_type": "code",
   "execution_count": 11,
   "metadata": {},
   "outputs": [
    {
     "data": {
      "text/plain": [
       "Text(0, 0.5, 'DISTANCE ALONG Y-AXIS, IN METERS')"
      ]
     },
     "execution_count": 11,
     "metadata": {},
     "output_type": "execute_result"
    },
    {
     "data": {
      "image/png": "[encoded data removed]",
      "text/plain": [
       "<Figure size 432x288 with 1 Axes>"
      ]
     },
     "metadata": {},
     "output_type": "display_data"
    }
   ],
   "source": [
    "mm = flopy.plot.ModelMap(model=tm)\n",
    "mm.plot_grid(color='.5', alpha=0.2)\n",
    "mm.plot_ibound()\n",
    "cs = mm.contour_array(conc1[0])\n",
    "plt.clabel(cs)\n",
    "plt.xlabel('DISTANCE ALONG X-AXIS, IN METERS')\n",
    "plt.ylabel('DISTANCE ALONG Y-AXIS, IN METERS')"
   ]
  }
 ],
 "metadata": {
  "kernelspec": {
   "display_name": "Python 3",
   "language": "python",
   "name": "python3"
  },
  "language_info": {
   "codemirror_mode": {
    "name": "ipython",
    "version": 3
   },
   "file_extension": ".py",
   "mimetype": "text/x-python",
   "name": "python",
   "nbconvert_exporter": "python",
   "pygments_lexer": "ipython3",
   "version": "3.6.7"
  }
 },
 "nbformat": 4,
 "nbformat_minor": 2
}
